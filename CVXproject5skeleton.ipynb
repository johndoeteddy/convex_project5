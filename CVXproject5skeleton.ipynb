{
 "cells": [
  {
   "cell_type": "markdown",
   "metadata": {},
   "source": [
    "## CVX 2021-2022 Project 5 "
   ]
  },
  {
   "cell_type": "code",
   "execution_count": 70,
   "metadata": {},
   "outputs": [],
   "source": [
    "# Import packages.\n",
    "import cvxpy as cp\n",
    "import numpy as np\n",
    "from numpy.linalg import matrix_power\n",
    "from numpy import linalg as LA"
   ]
  },
  {
   "cell_type": "markdown",
   "metadata": {},
   "source": [
    "### Definitions"
   ]
  },
  {
   "cell_type": "code",
   "execution_count": 6,
   "metadata": {},
   "outputs": [],
   "source": [
    "def scd_moment(Q0, Qw, A, k):\n",
    "    temp = np.zeros(Q0.shape)\n",
    "    for i in range(k + 1):\n",
    "        temp += A**(k-i) @ Qw @ (A**(k-i)).T\n",
    "        \n",
    "    return A**k @ Q0 @ (A**k).T + temp"
   ]
  },
  {
   "cell_type": "code",
   "execution_count": 18,
   "metadata": {},
   "outputs": [],
   "source": [
    "# Define the dynamics \n",
    "A = np.matrix([[0.5, 0.8], [0, 0.5]])\n",
    "n = 2\n",
    "Q0 = np.matrix([[1, 0], [0, 1]])\n",
    "Qw = np.matrix([[1, 0], [0, 1]])\n",
    "\n",
    "# Compute the first two moments \n",
    "K = 10\n",
    "M = scd_moment(Q0, Qw, A, K + 1)"
   ]
  },
  {
   "cell_type": "markdown",
   "metadata": {},
   "source": [
    "### Empirical Probability"
   ]
  },
  {
   "cell_type": "code",
   "execution_count": 15,
   "metadata": {},
   "outputs": [
    {
     "name": "stdout",
     "output_type": "stream",
     "text": [
      "0.998\n"
     ]
    }
   ],
   "source": [
    "# The given data contains for E trajectories (different initial conditions) the vector x_{K+1}.\n",
    "# load that data \n",
    "data = np.loadtxt(\"datax.txt\")\n",
    "\n",
    "# compute the empirical probability of being in the safe set \n",
    "E = 1000\n",
    "rad = 8\n",
    "\n",
    "t = np.linalg.norm(data, axis = 0, ord=1)\n",
    "emp_proba = (t < rad).sum() / E\n",
    "print(emp_proba)"
   ]
  },
  {
   "cell_type": "markdown",
   "metadata": {},
   "source": [
    "### SDP Formulation"
   ]
  },
  {
   "cell_type": "code",
   "execution_count": 66,
   "metadata": {},
   "outputs": [
    {
     "name": "stdout",
     "output_type": "stream",
     "text": [
      "The optimal value is 0.863854713139716\n"
     ]
    }
   ],
   "source": [
    "b = 1/2 * np.array([[1.0, 1],\n",
    "                    [1, -1],\n",
    "                    [-1, 1],\n",
    "                    [-1, -1]])\n",
    "\n",
    "c = np.array([-rad * 1.0,-rad, -rad, -rad])\n",
    "\n",
    "P = cp.Variable((n,n), symmetric=True)\n",
    "q = cp.Variable((n, 1))\n",
    "r = cp.Variable((1,1))\n",
    "tau = cp.Variable(len(c))\n",
    "\n",
    "\n",
    "obj = 1 - cp.trace(M @ P) - r\n",
    "\n",
    "constraints = []\n",
    "constraints.append(tau >= 0)\n",
    "\n",
    "for i in range(len(c)):\n",
    "    temp1 = cp.hstack([P, q - tau[i]*b[i].reshape(-1, 1)])\n",
    "    temp2 = cp.vstack([q - tau[i]*b[i].reshape(-1, 1), (r - 1 - tau[i]*c[i].reshape(1,1))]).T\n",
    "    ti = cp.vstack([temp1, temp2])\n",
    "    constraints.append(ti >> 0)\n",
    "    \n",
    "    temp1 = cp.hstack([P, q])\n",
    "    temp2 = cp.hstack([q.T, r])\n",
    "    ti = cp.vstack([temp1, temp2])\n",
    "    constraints.append(ti >> 0)\n",
    "    \n",
    "prob = cp.Problem(cp.Maximize(obj),\n",
    "                  constraints)\n",
    "prob.solve()\n",
    "\n",
    "# Print result.\n",
    "print(\"The optimal value is\", prob.value)"
   ]
  },
  {
   "cell_type": "markdown",
   "metadata": {},
   "source": [
    "### Discussion"
   ]
  },
  {
   "cell_type": "markdown",
   "metadata": {},
   "source": [
    "Indeed, as expected, the sdp solution give us a lower value than the empirical probability value computed previously (the expectancy of the empirical value is around the ground truth). TODO"
   ]
  },
  {
   "cell_type": "code",
   "execution_count": null,
   "metadata": {},
   "outputs": [],
   "source": []
  }
 ],
 "metadata": {
  "kernelspec": {
   "display_name": "Python 3",
   "language": "python",
   "name": "python3"
  },
  "language_info": {
   "codemirror_mode": {
    "name": "ipython",
    "version": 3
   },
   "file_extension": ".py",
   "mimetype": "text/x-python",
   "name": "python",
   "nbconvert_exporter": "python",
   "pygments_lexer": "ipython3",
   "version": "3.8.5"
  }
 },
 "nbformat": 4,
 "nbformat_minor": 4
}
